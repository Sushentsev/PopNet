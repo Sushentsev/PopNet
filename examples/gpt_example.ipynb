{
  "nbformat": 4,
  "nbformat_minor": 0,
  "metadata": {
    "colab": {
      "name": "gpt_example.ipynb",
      "provenance": [],
      "collapsed_sections": []
    },
    "kernelspec": {
      "name": "python3",
      "display_name": "Python 3"
    },
    "language_info": {
      "name": "python"
    },
    "accelerator": "GPU"
  },
  "cells": [
    {
      "cell_type": "code",
      "metadata": {
        "id": "V2g8GsawLEQ8"
      },
      "source": [
        "!pip install torch==1.4.0\n",
        "!pip3 install transformers==3.5.0\n",
        "!pip install lyricsgenius"
      ],
      "execution_count": null,
      "outputs": []
    },
    {
      "cell_type": "code",
      "metadata": {
        "colab": {
          "base_uri": "https://localhost:8080/"
        },
        "id": "92LqTByXLUpj",
        "outputId": "7ae80fc5-0a4e-432f-cfa7-4d10ac4b6515"
      },
      "source": [
        "!git clone https://github.com/sberbank-ai/ru-gpts"
      ],
      "execution_count": 2,
      "outputs": [
        {
          "output_type": "stream",
          "text": [
            "Cloning into 'ru-gpts'...\n",
            "remote: Enumerating objects: 613, done.\u001b[K\n",
            "remote: Counting objects: 100% (108/108), done.\u001b[K\n",
            "remote: Compressing objects: 100% (49/49), done.\u001b[K\n",
            "remote: Total 613 (delta 66), reused 95 (delta 59), pack-reused 505\u001b[K\n",
            "Receiving objects: 100% (613/613), 360.92 KiB | 7.22 MiB/s, done.\n",
            "Resolving deltas: 100% (366/366), done.\n"
          ],
          "name": "stdout"
        }
      ]
    },
    {
      "cell_type": "code",
      "metadata": {
        "id": "z_4fU-OYLcLi"
      },
      "source": [
        "!mkdir models/"
      ],
      "execution_count": 3,
      "outputs": []
    },
    {
      "cell_type": "code",
      "metadata": {
        "colab": {
          "base_uri": "https://localhost:8080/"
        },
        "id": "Ee0wFeNeL_s9",
        "outputId": "df9aad0f-22e4-494e-e369-dd1d956e12d1"
      },
      "source": [
        "!git clone https://github.com/Sushentsev/PopNet.git"
      ],
      "execution_count": 4,
      "outputs": [
        {
          "output_type": "stream",
          "text": [
            "Cloning into 'PopNet'...\n",
            "remote: Enumerating objects: 256, done.\u001b[K\n",
            "remote: Counting objects: 100% (256/256), done.\u001b[K\n",
            "remote: Compressing objects: 100% (219/219), done.\u001b[K\n",
            "remote: Total 256 (delta 69), reused 195 (delta 25), pack-reused 0\u001b[K\n",
            "Receiving objects: 100% (256/256), 11.37 MiB | 26.11 MiB/s, done.\n",
            "Resolving deltas: 100% (69/69), done.\n"
          ],
          "name": "stdout"
        }
      ]
    },
    {
      "cell_type": "code",
      "metadata": {
        "colab": {
          "base_uri": "https://localhost:8080/"
        },
        "id": "ee8Z7FQ9P-7i",
        "outputId": "c2d35514-c69e-4c02-caf1-e9eff92e7ef1"
      },
      "source": [
        "%cd PopNet/data"
      ],
      "execution_count": 5,
      "outputs": [
        {
          "output_type": "stream",
          "text": [
            "/content/PopNet/data\n"
          ],
          "name": "stdout"
        }
      ]
    },
    {
      "cell_type": "code",
      "metadata": {
        "colab": {
          "base_uri": "https://localhost:8080/"
        },
        "id": "kN34UVeXQrSj",
        "outputId": "859d1448-fa18-4f39-81e8-5383f63fffd1"
      },
      "source": [
        "!ls"
      ],
      "execution_count": 6,
      "outputs": [
        {
          "output_type": "stream",
          "text": [
            "examples\t     genius_collection.py  gensongs.zip\n",
            "genious_config.json  genius_examples\t   lyrics_collection.py\n"
          ],
          "name": "stdout"
        }
      ]
    },
    {
      "cell_type": "code",
      "metadata": {
        "id": "0CZ_Fo0Kw_md"
      },
      "source": [
        "!unzip gensongs.zip"
      ],
      "execution_count": null,
      "outputs": []
    },
    {
      "cell_type": "markdown",
      "metadata": {
        "id": "D10JgNEiP9HF"
      },
      "source": [
        "# GPT"
      ]
    },
    {
      "cell_type": "code",
      "metadata": {
        "id": "c2IG3GZhM1Z4"
      },
      "source": [
        "import os\n",
        "\n",
        "path = '/content/PopNet/data/gensongs/'\n",
        "\n",
        "files = os.listdir(path)\n",
        "train_files, valid_files = files[:int(len(files) * 0.8)], files[int(len(files) * 0.8):]\n",
        "\n",
        "names = [x.split('-')[1][:-4] for x in train_files]\n",
        "files = [os.path.join(path, x) for x in train_files]\n",
        "\n",
        "train_file = open('train.txt', 'w')\n",
        "\n",
        "for file, name in zip(files, names):\n",
        "    f = open(file, \"r\")\n",
        "    train_file.write('<startsong>\\n')\n",
        "    train_file.write('<songname>' + name + '\\n')\n",
        "    train_file.write('<songlyrics>\\n')\n",
        "\n",
        "    for line in f:\n",
        "        train_file.write(line)\n",
        "\n",
        "    train_file.write('<endsong>\\n')\n",
        "    f.close()\n",
        "\n",
        "train_file.close()\n",
        "\n",
        "names = [x.split('-')[1][:-4] for x in valid_files]\n",
        "files = [os.path.join(path, x) for x in valid_files]\n",
        "valid_file = open('valid.txt', 'w')\n",
        "\n",
        "for file, name in zip(files, names):\n",
        "    f = open(file, \"r\")\n",
        "    valid_file.write('<startsong>\\n')\n",
        "    valid_file.write('<songname>' + name + '\\n')\n",
        "    valid_file.write('<songlyrics>\\n')\n",
        "\n",
        "    for line in f:\n",
        "        valid_file.write(line)\n",
        "\n",
        "    valid_file.write('<endsong>\\n')\n",
        "    f.close()\n",
        "\n",
        "valid_file.close()"
      ],
      "execution_count": 8,
      "outputs": []
    },
    {
      "cell_type": "code",
      "metadata": {
        "colab": {
          "base_uri": "https://localhost:8080/"
        },
        "id": "Z8UHXaxVf25w",
        "outputId": "45fd7b13-abd8-4fb9-8497-d01f0e8d83e8"
      },
      "source": [
        "%cd ../../"
      ],
      "execution_count": 9,
      "outputs": [
        {
          "output_type": "stream",
          "text": [
            "/content\n"
          ],
          "name": "stdout"
        }
      ]
    },
    {
      "cell_type": "code",
      "metadata": {
        "colab": {
          "base_uri": "https://localhost:8080/"
        },
        "id": "7AU05Fdz_tGR",
        "outputId": "bd1d20f5-cafc-42d2-bd79-6b0edcbc04b9"
      },
      "source": [
        "!ls"
      ],
      "execution_count": 10,
      "outputs": [
        {
          "output_type": "stream",
          "text": [
            "models\tPopNet\tru-gpts  sample_data\n"
          ],
          "name": "stdout"
        }
      ]
    },
    {
      "cell_type": "code",
      "metadata": {
        "id": "5k5h1beJN2fg"
      },
      "source": [
        "!export PYTHONPATH=${PYTHONPATH}:/ru-gpts/\n",
        "!CUDA_VISIBLE_DEVICES=0 python ru-gpts/pretrain_transformers.py \\\n",
        "    --output_dir=models/popnet \\\n",
        "    --model_type=gpt2 \\\n",
        "    --model_name_or_path=sberbank-ai/rugpt3small_based_on_gpt2 \\\n",
        "    --do_train \\\n",
        "    --train_data_file=PopNet/data/train.txt \\\n",
        "    --do_eval \\\n",
        "    --eval_data_file=PopNet/data/valid.txt \\\n",
        "    --per_gpu_train_batch_size 1 \\\n",
        "    --gradient_accumulation_steps 1 \\\n",
        "    --num_train_epochs 5 \\\n",
        "    --block_size 2048 \\\n",
        "    --overwrite_output_dir"
      ],
      "execution_count": null,
      "outputs": []
    },
    {
      "cell_type": "markdown",
      "metadata": {
        "id": "od7jPpsuQwVn"
      },
      "source": [
        "Inference\n"
      ]
    },
    {
      "cell_type": "code",
      "metadata": {
        "colab": {
          "base_uri": "https://localhost:8080/",
          "height": 273
        },
        "id": "TsOU02vPQfow",
        "outputId": "36c20a49-e5a5-4769-86d2-4429ce3e8b2f"
      },
      "source": [
        "import numpy as np\n",
        "import torch\n",
        "from transformers import GPT2LMHeadModel, GPT2Tokenizer\n",
        "\n",
        "np.random.seed(42)\n",
        "torch.manual_seed(42)\n",
        "\n",
        "tok = GPT2Tokenizer.from_pretrained(\"models/popnet\")\n",
        "model = GPT2LMHeadModel.from_pretrained(\"models/popnet\").cuda()\n",
        "\n",
        "text = \"<startsong>\\n<songname> Дом (Home)\\n<songlyrics>\\n\"\n",
        "inpt = tok.encode(text, return_tensors=\"pt\")\n",
        "\n",
        "out = model.generate(inpt.cuda(), max_length=500, repetition_penalty=5.0, do_sample=True, top_k=5, top_p=0.95, temperature=1)\n",
        "tok.decode(out[0])"
      ],
      "execution_count": null,
      "outputs": [
        {
          "output_type": "stream",
          "text": [
            "Setting `pad_token_id` to `eos_token_id`:50256 for open-end generation.\n"
          ],
          "name": "stderr"
        },
        {
          "output_type": "execute_result",
          "data": {
            "application/vnd.google.colaboratory.intrinsic+json": {
              "type": "string"
            },
            "text/plain": [
              "'<startsong>\\n<songname> Дом (Home)\\n<songlyrics>\\nЯ хочу тебе рассказать, как я жил без тебя и не знал о том что такое больная любовь. Я хотел бы чтобы ты была рядом со мной... но только в моем сердце остались те чувства которые мы с тобой потеряли навсегда! А так хочется чтоб кто то пришел к нам жить а может быть это будет наш первый секс после долгой разлуки!!! Так хотелось забыть обо всем на свете оставив все позади нас двоих!! И вот уже который год подряд мне снится моя новая жизнь где каждый день новый мой друг живет у меня за спиной.. Мы живем словно во сне… Мне снились твои руки под моим окном когда он спит ночью просыпаясь от моих криков: \"Сука!\" Ты слышишь мои крики - они звучат для всех одинаково-это дом нашей мечты! Мой любимый человек теперь твой самый лучший враг номер один из тысячи людей которым можно доверять по жизни.... Но если хочешь можешь просто скажи ему об этом пусть приснится твоя первая встреча ведь она запомнит надолго даже больше чем наши сны вместе никогда  Ведь эта ночь наша самая последняя такая же длинная дорога которая проходит через время оставляя след между нами остается лишь пустота или воспоминания останутся навеками до лучших времен пока память хранит их там храня всю мою душу которую унесет ветер ветра прошлого года домой ко своей маме любимой жене любящей ее такой родной ей жены моей мамы твоей единственной дочери которой суждено было умереть еще молодым любимым человеком потерявшим надежду прожить свою счастливую старость среди разрухи собственного дома одиноко одинокого да заброшенного всеми покинутым домом его родителей которого нет нигде нету давно похоронены дети ушедших близких друзей которых звали родители покойный муж умерший жена ушла искать счастья ни кого кроме него самого никого тогда осталась одна любимая женщина мужа любила безумно ревновала сильно плакала ночами плача слезами говорила при нем просила прощения мама умоляя простить сына простила била себя кулаком больно кричала горько рыдая громко всхлипывала тихо стонала закрыв глаза пытаясь понять зачем пришла та смерть куда привела эту странную пустоту заполнившую сознание кричащая криком любви рвущаяся наружу ненависть доводившая иногда своего человека своими словами разрывая плоть раздирая ногтями впивалась пальцами когтями зубами вырываясь вонзая ногти кусаю губы обжигая кровь глотая слюну жадно вдыхая запах крови убиваемой плоти чувствуя кожей тела обжигающей жаркую влагу смерти ощущая руками дрожащими тело лежащее обнаженным посреди океана души наполненной любовью полной ненависти ненавидящей ненавистью уничтожавшей собой живое оно безжалостно погло'"
            ]
          },
          "metadata": {
            "tags": []
          },
          "execution_count": 18
        }
      ]
    },
    {
      "cell_type": "code",
      "metadata": {
        "id": "8Q6DuuLFRNnp"
      },
      "source": [
        ""
      ],
      "execution_count": null,
      "outputs": []
    }
  ]
}