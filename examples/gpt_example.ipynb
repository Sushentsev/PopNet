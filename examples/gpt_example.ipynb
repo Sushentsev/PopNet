{
  "nbformat": 4,
  "nbformat_minor": 0,
  "metadata": {
    "colab": {
      "name": "gpt_example.ipynb",
      "provenance": [],
      "collapsed_sections": []
    },
    "kernelspec": {
      "name": "python3",
      "display_name": "Python 3"
    },
    "language_info": {
      "name": "python"
    },
    "accelerator": "GPU"
  },
  "cells": [
    {
      "cell_type": "code",
      "metadata": {
        "id": "V2g8GsawLEQ8"
      },
      "source": [
        "!pip install torch==1.4.0\n",
        "!pip3 install transformers==3.5.0\n",
        "!pip install lyricsgenius"
      ],
      "execution_count": null,
      "outputs": []
    },
    {
      "cell_type": "code",
      "metadata": {
        "colab": {
          "base_uri": "https://localhost:8080/"
        },
        "id": "Ee0wFeNeL_s9",
        "outputId": "7ceb26c8-5873-4ea8-8287-85bce2b905a2"
      },
      "source": [
        "!git clone https://github.com/Sushentsev/PopNet.git --branch gpt"
      ],
      "execution_count": 2,
      "outputs": [
        {
          "output_type": "stream",
          "text": [
            "Cloning into 'PopNet'...\n",
            "remote: Enumerating objects: 335, done.\u001b[K\n",
            "remote: Counting objects: 100% (335/335), done.\u001b[K\n",
            "remote: Compressing objects: 100% (276/276), done.\u001b[K\n",
            "remote: Total 335 (delta 113), reused 239 (delta 43), pack-reused 0\u001b[K\n",
            "Receiving objects: 100% (335/335), 11.39 MiB | 27.83 MiB/s, done.\n",
            "Resolving deltas: 100% (113/113), done.\n"
          ],
          "name": "stdout"
        }
      ]
    },
    {
      "cell_type": "code",
      "metadata": {
        "colab": {
          "base_uri": "https://localhost:8080/"
        },
        "id": "_0-tOMWr6nxp",
        "outputId": "86183c74-7807-4b9f-be10-3eac19094277"
      },
      "source": [
        "%cd PopNet/"
      ],
      "execution_count": 3,
      "outputs": [
        {
          "output_type": "stream",
          "text": [
            "/content/PopNet\n"
          ],
          "name": "stdout"
        }
      ]
    },
    {
      "cell_type": "code",
      "metadata": {
        "colab": {
          "base_uri": "https://localhost:8080/"
        },
        "id": "4h_-dvAo6mRa",
        "outputId": "87893137-fe46-4a72-9f45-af0079b2f7d9"
      },
      "source": [
        "!git clone https://github.com/sberbank-ai/ru-gpts"
      ],
      "execution_count": 4,
      "outputs": [
        {
          "output_type": "stream",
          "text": [
            "Cloning into 'ru-gpts'...\n",
            "remote: Enumerating objects: 613, done.\u001b[K\n",
            "remote: Counting objects: 100% (108/108), done.\u001b[K\n",
            "remote: Compressing objects: 100% (49/49), done.\u001b[K\n",
            "remote: Total 613 (delta 66), reused 95 (delta 59), pack-reused 505\u001b[K\n",
            "Receiving objects: 100% (613/613), 360.92 KiB | 12.03 MiB/s, done.\n",
            "Resolving deltas: 100% (366/366), done.\n"
          ],
          "name": "stdout"
        }
      ]
    },
    {
      "cell_type": "code",
      "metadata": {
        "colab": {
          "base_uri": "https://localhost:8080/"
        },
        "id": "kN34UVeXQrSj",
        "outputId": "dae6074c-ffc7-43e4-d202-8c2d9ddd576d"
      },
      "source": [
        "!ls"
      ],
      "execution_count": 5,
      "outputs": [
        {
          "output_type": "stream",
          "text": [
            "data\t  inference  README.md\t       ru-gpts\tutils.py\n",
            "examples  LICENSE    requirements.txt  train\n"
          ],
          "name": "stdout"
        }
      ]
    },
    {
      "cell_type": "code",
      "metadata": {
        "id": "0CZ_Fo0Kw_md"
      },
      "source": [
        "!unzip data/gensongs.zip -d data/"
      ],
      "execution_count": null,
      "outputs": []
    },
    {
      "cell_type": "markdown",
      "metadata": {
        "id": "D10JgNEiP9HF"
      },
      "source": [
        "### GPT Train"
      ]
    },
    {
      "cell_type": "code",
      "metadata": {
        "id": "7AU05Fdz_tGR"
      },
      "source": [
        "!python train/preprocess/gpt_preprocess.py  --data_path 'data/gensongs/' --save_path 'train/preprocess/gpt_data/'"
      ],
      "execution_count": 7,
      "outputs": []
    },
    {
      "cell_type": "code",
      "metadata": {
        "id": "5k5h1beJN2fg"
      },
      "source": [
        "!export PYTHONPATH=${PYTHONPATH}:/ru-gpts/\n",
        "!CUDA_VISIBLE_DEVICES=0 python ru-gpts/pretrain_transformers.py \\\n",
        "    --output_dir=train/models/gpt \\\n",
        "    --model_type=gpt2 \\\n",
        "    --model_name_or_path=sberbank-ai/rugpt3small_based_on_gpt2 \\\n",
        "    --do_train \\\n",
        "    --train_data_file=train/preprocess/gpt_data/train.txt \\\n",
        "    --do_eval \\\n",
        "    --eval_data_file=train/preprocess/gpt_data/valid.txt \\\n",
        "    --per_gpu_train_batch_size 1 \\\n",
        "    --gradient_accumulation_steps 1 \\\n",
        "    --num_train_epochs 5 \\\n",
        "    --block_size 2048 \\\n",
        "    --overwrite_output_dir"
      ],
      "execution_count": null,
      "outputs": []
    },
    {
      "cell_type": "markdown",
      "metadata": {
        "id": "od7jPpsuQwVn"
      },
      "source": [
        "### GPT Inference\n"
      ]
    },
    {
      "cell_type": "code",
      "metadata": {
        "id": "8Q6DuuLFRNnp",
        "colab": {
          "base_uri": "https://localhost:8080/"
        },
        "outputId": "b5a854e5-1d30-426c-cd4c-10dbfb03f447"
      },
      "source": [
        "!python inference/gpt_inference.py --song_name 'Картошка (Potato)'"
      ],
      "execution_count": 16,
      "outputs": [
        {
          "output_type": "stream",
          "text": [
            "2021-06-19 12:11:09.937144: I tensorflow/stream_executor/platform/default/dso_loader.cc:53] Successfully opened dynamic library libcudart.so.11.0\n",
            "Setting `pad_token_id` to `eos_token_id`:50256 for open-end generation.\n",
            "<startsong>\n",
            "<songname> Картошка (Potato)\n",
            "<songlyrics>\n",
            "Я люблю картошку, я очень горжусь ею! Я знаю это все: она вкусна и питательна; я не ем ее больше никогда. И когда мне говорят об этом - у меня внутри что- то сжимается от страха за близких людей... Когда ты приходишь домой из дома со своей картошкой – там никого кроме тебя нет.... Ты говоришь себе \"Это моя любимая еда\"... А на утро в голове только одна мысль о ней!... Но если бы можно было просто взять её руками или хотя б раз разбить вдребезги эту самую чашку с голубой каемочкой,- эта самая любовь была так прекрасна..... Она вся сияет всеми оттенками радуг цвета неба! Вот такая вот арифметика простая :-) Ну а пока мы едим картофель вместе, нас никто уже к этой радости точно ни при чем. Мы любим ту страну где живем сейчас по сей день.. Да ну нахер нам эти праздники!? Ведь каждый Новый год здесь как будто специально для вас готовится праздничный стол!! Вкусная пища приготовлена нами поваром нашей семьи!.. На столе всегда свежая рыба под ароматным соусом!!! Все блюда готовятся нашими уважаемыми шефами лично мною вами собственноручно!!! Это блюдо называется карточная игра...... Так же вкусно получается жареная капуста квашеной капусты   Свежий хлеб обязательно должен быть свежим‚ он тоже может пахнуть яблоком да медом.... Как вам приготовить такое? Для того чтобы вы смогли съесть его сами? Нет ничего проще простого приготовления этого замечательного десерта собственного сочинения автора известного Вам кулинарного искусства Сергея Лазарева!\" \n",
            " ****** По дороге туда куда едут машины всех стран мира** Не надо говорить про Америку ведь Вы знаете весь мир который живет именно благодаря ей… Кстати сказать еще один факт состоит лишь во том кто является президентом России которая управляет всем миром … Короче говоря Россия есть президент всего живого сущего которое имеет свою огромную народность которую населяют более ста миллионов человек которые проживают большую часть земного шара Земля земляне русские люди живущие сегодня около трех миллиардов двести семьдесят четыре миллиарда девятьсот пятьдесят восемь тысяч пятьсот сорок два тысячи триста шестьдесят три человека проживающих вчера приблизительно сто двадцать пять минут тридцать шесть секунд пятнадцать мгновений времени каждая тысяча семь часов девяносто одну минуту двенадцать слов десять фраз одиннадцать нот четырнадцать целых шестнадцать десятых пятидесять этих десяти одно ноль две значит ровно семнадцать процентов остальное ерунда какая либо глупость какой нибудь ерунду какуюнибудь чушь такую вообще хуйню всякую\n"
          ],
          "name": "stdout"
        }
      ]
    }
  ]
}